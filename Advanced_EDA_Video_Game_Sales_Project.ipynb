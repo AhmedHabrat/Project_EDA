{
 "cells": [
  {
   "cell_type": "markdown",
   "id": "889838ef",
   "metadata": {},
   "source": [
    "# 🎮 Advanced Video Game Sales Analysis\n",
    "Team Members: <Insert Names>\n",
    "Project Year: 2025\n",
    "GitHub Source: [Insert Dataset Link]"
   ]
  },
  {
   "cell_type": "markdown",
   "id": "7210805e",
   "metadata": {},
   "source": [
    "## 🔍 Overview\n",
    "This notebook performs advanced exploratory data analysis (EDA) on video game sales data. We'll explore regional trends, publisher dominance, genre evolution, and more."
   ]
  },
  {
   "cell_type": "code",
   "execution_count": null,
   "id": "5c5a7a10",
   "metadata": {},
   "outputs": [],
   "source": [
    "import pandas as pd\n",
    "import matplotlib.pyplot as plt\n",
    "import seaborn as sns\n",
    "import seaborn.objects as so\n",
    "\n",
    "# Load and preprocess\n",
    "df = pd.read_csv(\"trimmed_video_games_sales_.csv\")\n",
    "df.columns = [\n",
    "    \"rank\", \"name\", \"platform\", \"year\", \"genre\", \"publisher\",\n",
    "    \"na_sales\", \"eu_sales\", \"jp_sales\", \"other_sales\", \"global_sales\"\n",
    "]\n",
    "df[\"year\"] = pd.to_numeric(df[\"year\"], errors=\"coerce\").astype(\"Int64\")\n",
    "df[\"publisher\"] = df[\"publisher\"].fillna(\"Unknown\")\n",
    "df.dropna(subset=[\"year\"], inplace=True)\n",
    "df.head()"
   ]
  },
  {
   "cell_type": "code",
   "execution_count": null,
   "id": "f0f46371",
   "metadata": {},
   "outputs": [],
   "source": [
    "pivot = df.pivot_table(index=\"year\", columns=\"platform\", values=\"global_sales\", aggfunc=\"sum\", fill_value=0)\n",
    "plt.figure(figsize=(14, 8))\n",
    "sns.heatmap(pivot, cmap=\"YlGnBu\", linewidths=0.5)\n",
    "plt.title(\"Heatmap of Global Sales by Platform Over Years\")\n",
    "plt.ylabel(\"Year\")\n",
    "plt.xlabel(\"Platform\")\n",
    "plt.tight_layout()\n",
    "plt.savefig(\"heatmap_platform_year.png\")\n",
    "plt.show()"
   ]
  },
  {
   "cell_type": "code",
   "execution_count": null,
   "id": "a607f889",
   "metadata": {},
   "outputs": [],
   "source": [
    "top_publishers = df.groupby(\"publisher\")[\"global_sales\"].sum().sort_values(ascending=False).head(10)\n",
    "plt.figure(figsize=(10, 6))\n",
    "top_publishers.plot(kind=\"barh\", color=\"purple\")\n",
    "plt.title(\"Top 10 Publishers by Global Sales\")\n",
    "plt.xlabel(\"Global Sales (millions)\")\n",
    "plt.tight_layout()\n",
    "plt.savefig(\"top_10_publishers.png\")\n",
    "plt.show()"
   ]
  },
  {
   "cell_type": "code",
   "execution_count": null,
   "id": "a4439d5a",
   "metadata": {},
   "outputs": [],
   "source": [
    "genre_trend = df.groupby([\"year\", \"genre\"])[\"global_sales\"].sum().reset_index()\n",
    "plt.figure(figsize=(14, 8))\n",
    "sns.lineplot(data=genre_trend, x=\"year\", y=\"global_sales\", hue=\"genre\", marker=\"o\")\n",
    "plt.title(\"Genre Sales Trends Over Time\")\n",
    "plt.ylabel(\"Global Sales (millions)\")\n",
    "plt.tight_layout()\n",
    "plt.savefig(\"genre_trend_over_time.png\")\n",
    "plt.show()"
   ]
  },
  {
   "cell_type": "code",
   "execution_count": null,
   "id": "4e9abf5b",
   "metadata": {},
   "outputs": [],
   "source": [
    "sns.pairplot(df[[\"na_sales\", \"eu_sales\", \"jp_sales\", \"other_sales\", \"global_sales\"]])\n",
    "plt.suptitle(\"Pairwise Sales Correlations by Region\", y=1.02)\n",
    "plt.tight_layout()\n",
    "plt.savefig(\"pairplot_sales.png\")\n",
    "plt.show()"
   ]
  },
  {
   "cell_type": "code",
   "execution_count": null,
   "id": "dc55d33e",
   "metadata": {},
   "outputs": [],
   "source": [
    "top5 = df['platform'].value_counts().nlargest(5).index.tolist()\n",
    "df_top5 = df[df['platform'].isin(top5)]\n",
    "plt.figure(figsize=(12, 6))\n",
    "sns.boxplot(data=df_top5, x=\"platform\", y=\"na_sales\")\n",
    "plt.title(\"North America Sales Distribution by Top Platforms\")\n",
    "plt.tight_layout()\n",
    "plt.savefig(\"na_sales_boxplot.png\")\n",
    "plt.show()"
   ]
  },
  {
   "cell_type": "markdown",
   "id": "0f136d70",
   "metadata": {},
   "source": [
    "## 💡 Advanced Insights\n",
    "1. **Nintendo** leads in global sales, far ahead of other publishers.\n",
    "2. **Role-Playing and Shooter genres** showed strong upward trends post-2000.\n",
    "3. **Platform popularity shifted from NES/PS2 to DS/Wii and later to X360/PS3.**\n",
    "4. **Regional patterns are distinct**: Japan prefers Role-Playing, NA favors Shooter and Sports.\n",
    "5. **Sales patterns per platform** show wide variance—Wii has higher outliers while PS2 is more consistent."
   ]
  },
  {
   "cell_type": "markdown",
   "id": "5c45ed61",
   "metadata": {},
   "source": [
    "## 🤖 ChatGPT Integration\n",
    "**Q1:** How can heatmaps reveal temporal patterns in sales?\n",
    "**A1:** By using years as rows and platforms as columns, we identify platform dominance by time periods (e.g., Wii dominance in 2007–2010).\n",
    "\n",
    "**Q2:** What visual best shows publisher performance over time?\n",
    "**A2:** A stacked bar or grouped line plot per publisher by year; we used bar for total comparison.\n",
    "\n",
    "**Q3:** How to measure genre success evolution?\n",
    "**A3:** Group global sales per genre per year and visualize via multi-line plot."
   ]
  },
  {
   "cell_type": "markdown",
   "id": "d4dcaa60",
   "metadata": {},
   "source": [
    "## 👥 Team Contributions\n",
    "- Member A: Visualization and statistical deep dives\n",
    "- Member B: Platform/year trend modeling\n",
    "- Member C: ChatGPT documentation, insights extraction"
   ]
  }
 ],
 "metadata": {},
 "nbformat": 4,
 "nbformat_minor": 5
}
